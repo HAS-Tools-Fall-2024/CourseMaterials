{
 "cells": [
  {
   "cell_type": "markdown",
   "metadata": {},
   "source": [
    "# Linear Regression Tutorial with Python and sklearn\n",
    "\n",
    "In this tutorial, we'll walk through the process of performing linear regression using Python, pandas, matplotlib, and sklearn. We'll use real-world data from the USGS (United States Geological Survey) and Daymet to predict streamflow based on temperature.\n",
    "\n",
    "## 1. Setting Up the Environment\n",
    "\n",
    "First, let's import the necessary libraries and set up some functions:\n"
   ]
  },
  {
   "cell_type": "code",
   "execution_count": null,
   "metadata": {},
   "outputs": [],
   "source": [
    "import urllib\n",
    "import numpy as np\n",
    "import pandas as pd\n",
    "import matplotlib.pyplot as plt\n",
    "from sklearn.linear_model import LinearRegression\n",
    "\n",
    "def create_usgs_url(site_no, begin_date, end_date):\n",
    "    return (f'https://waterdata.usgs.gov/nwis/dv?'\n",
    "        f'cb_00060=on&format=rdb&referred_module=sw&'\n",
    "        f'site_no={site_no}&'\n",
    "        f'begin_date={begin_date}&'\n",
    "        f'end_date={end_date}')\n",
    "\n",
    "def open_usgs_data(site, begin_date, end_date):\n",
    "    url = create_usgs_url((site), begin_date, end_date)\n",
    "    response = urllib.request.urlopen(url)\n",
    "    df = pd.read_table(\n",
    "        response, comment='#', skipfooter=1, delim_whitespace=True,\n",
    "        names=['agency', 'site', 'date', 'streamflow', 'quality_flag'],\n",
    "        index_col=2, parse_dates=True).iloc[2:]\n",
    "    df['streamflow'] = df['streamflow'].astype(np.float64)\n",
    "    df.index = pd.DatetimeIndex(df.index)\n",
    "    return df\n",
    "\n",
    "def open_daymet_data(lat, lon, begin_date, end_date):\n",
    "    args = {'lat':  lat, 'lon': lon, 'format': 'csv',\n",
    "            'start': begin_date, 'end': end_date}\n",
    "    query = urllib.parse.urlencode(args)\n",
    "    url = f\"https://daymet.ornl.gov/single-pixel/api/data?{query}\"\n",
    "    response = urllib.request.urlopen(url)\n",
    "    df = pd.read_csv(response, header=6)\n",
    "    datestring = (df['year'].astype(str) + df['yday'].astype(str))\n",
    "    dates = pd.to_datetime(datestring, format='%Y%j')\n",
    "    df.index = pd.DatetimeIndex(dates)\n",
    "    return df\n"
   ]
  },
  {
   "cell_type": "markdown",
   "metadata": {},
   "source": [
    "\n",
    "## 2. Data Collection and Preparation\n",
    "\n",
    "We'll use two helper functions `open_usgs_data()` and `open_daymet_data()` to fetch our data. These functions are already defined in the script.\n",
    "\n",
    "Let's fetch and prepare our data:"
   ]
  },
  {
   "cell_type": "code",
   "execution_count": null,
   "metadata": {},
   "outputs": [],
   "source": [
    "site = '09506000'\n",
    "begin_date = '2000-09-25'\n",
    "end_date = '2022-09-25'\n",
    "lat = 34.4483605\n",
    "lon = -111.7898705\n",
    "\n",
    "daymet_df = open_daymet_data(lat, lon, begin_date, end_date)\n",
    "verde_df = open_usgs_data(site, begin_date, end_date)\n",
    "daymet_df = daymet_df.reindex(verde_df.index)\n",
    "daymet_df['streamflow'] = verde_df['streamflow']\n",
    "df = daymet_df\n",
    "\n",
    "# Resample to monthly data\n",
    "df_monthly = df.resample('M').mean()\n",
    "df_monthly = df_monthly.dropna()"
   ]
  },
  {
   "cell_type": "markdown",
   "metadata": {},
   "source": [
    "\n",
    "## 3. Exploratory Data Analysis\n",
    "\n",
    "Let's create a scatter plot to visualize the relationship between maximum temperature and streamflow:"
   ]
  },
  {
   "cell_type": "code",
   "execution_count": null,
   "metadata": {},
   "outputs": [],
   "source": [
    "df_monthly.plot.scatter(x='tmax (deg c)', y='streamflow')\n",
    "plt.semilogy()\n",
    "plt.title('Streamflow vs Max Temperature')\n",
    "plt.xlabel('Max Temperature (°C)')\n",
    "plt.ylabel('Streamflow (log scale)')\n",
    "plt.show()"
   ]
  },
  {
   "cell_type": "markdown",
   "metadata": {},
   "source": [
    "This plot shows the relationship between maximum temperature and streamflow. Note that we're using a logarithmic scale for the y-axis (streamflow) to better visualize the data distribution.\n",
    "\n",
    "## 4. Linear Regression\n",
    "\n",
    "Now, let's perform linear regression using sklearn:\n"
   ]
  },
  {
   "cell_type": "code",
   "execution_count": null,
   "metadata": {},
   "outputs": [],
   "source": [
    "lm = LinearRegression()\n",
    "X = df_monthly[['tmax (deg c)']]\n",
    "y = df_monthly[['streamflow']]\n",
    "lm.fit(X, y)\n",
    "\n",
    "# Generate points for the fit line\n",
    "X_fit = np.linspace(X.min(), X.max(), 20).reshape(-1, 1)\n",
    "y_fit = lm.predict(X_fit)\n",
    "\n",
    "# Plot the data and the fit line\n",
    "df_monthly.plot.scatter(x='tmax (deg c)', y='streamflow')\n",
    "plt.plot(X_fit, y_fit, color='red', label='Linear fit')\n",
    "plt.semilogy()\n",
    "plt.title('Linear Regression: Streamflow vs Max Temperature')\n",
    "plt.xlabel('Max Temperature (°C)')\n",
    "plt.ylabel('Streamflow (log scale)')\n",
    "plt.legend()\n",
    "plt.show()"
   ]
  },
  {
   "cell_type": "markdown",
   "metadata": {},
   "source": [
    "\n",
    "This plot shows our data points and the linear regression line. However, you might notice that the fit doesn't look great, especially for lower temperatures.\n",
    "\n",
    "## 5. Log-transformed Linear Regression\n",
    "\n",
    "To improve our fit, let's try a log-transformed linear regression:\n"
   ]
  },
  {
   "cell_type": "code",
   "execution_count": null,
   "metadata": {},
   "outputs": [],
   "source": [
    "log_lm = LinearRegression()\n",
    "X = df_monthly[['tmax (deg c)']]\n",
    "# Take the log of the streamflow data\n",
    "y_log = np.log(df_monthly[['streamflow']])\n",
    "log_lm.fit(X, y_log)\n",
    "\n",
    "# Generate points for both fit lines\n",
    "X_fit = np.linspace(X.min(), X.max(), 20).reshape(-1, 1)\n",
    "y_fit_log = np.exp(log_lm.predict(X_fit))\n",
    "y_fit = lm.predict(X_fit)\n",
    "\n",
    "# Plot the data and both fit lines\n",
    "df_monthly.plot.scatter(x='tmax (deg c)', y='streamflow')\n",
    "plt.plot(X_fit, y_fit_log, color='maroon', label='Log-transformed fit')\n",
    "plt.plot(X_fit, y_fit, color='darkgoldenrod', linestyle='--', label='Raw fit')\n",
    "plt.semilogy()\n",
    "plt.title('Comparison of Linear Regression Fits')\n",
    "plt.xlabel('Max Temperature (°C)')\n",
    "plt.ylabel('Streamflow (log scale)')\n",
    "plt.legend()\n",
    "plt.show()"
   ]
  },
  {
   "cell_type": "markdown",
   "metadata": {},
   "source": [
    "\n",
    "This plot compares the original linear regression (dashed line) with the log-transformed linear regression (solid line). The log-transformed fit appears to better capture the relationship in the data.\n",
    "\n",
    "## 6. Model Evaluation\n",
    "\n",
    "Let's compare the performance of our models:\n"
   ]
  },
  {
   "cell_type": "code",
   "execution_count": null,
   "metadata": {},
   "outputs": [],
   "source": [
    "\n",
    "log_score = log_lm.score(X, y_log)\n",
    "reg_score = lm.score(X, y)\n",
    "\n",
    "print(f\"R-squared score for log-transformed model: {log_score:.4f}\")\n",
    "print(f\"R-squared score for raw model: {reg_score:.4f}\")\n"
   ]
  },
  {
   "cell_type": "markdown",
   "metadata": {},
   "source": [
    "\n",
    "The R-squared score tells us how well our model fits the data, with 1 being a perfect fit. The log-transformed model typically performs better in this case.\n",
    "\n",
    "## 7. Interpreting the Model\n",
    "\n",
    "Finally, let's look at the coefficients of our log-transformed model:\n"
   ]
  },
  {
   "cell_type": "code",
   "execution_count": null,
   "metadata": {},
   "outputs": [],
   "source": [
    "coefficient = log_lm.coef_[0][0]\n",
    "intercept = log_lm.intercept_[0]\n",
    "\n",
    "print(f\"Coefficient: {coefficient:.4f}\")\n",
    "print(f\"Intercept: {intercept:.4f}\")"
   ]
  },
  {
   "cell_type": "markdown",
   "metadata": {},
   "source": [
    "These values define our regression line in the form:\n",
    "\n",
    "$$\n",
    "log(streamflow) = m \\cdot temperature + b\n",
    "$$\n",
    "\n",
    "This means that for every 1°C increase in maximum temperature, we expect the log of streamflow to change by the coefficient value.\n",
    "\n",
    "\n",
    "## 8. Time Series Forecasting: Predicting Streamflow\n",
    "\n",
    "Now, let's develop a regression analysis that uses the previous 7 days of streamflow to predict the next day's streamflow. This type of analysis is useful for short-term forecasting and is an example of autoregression.\n",
    "\n",
    "### 8.1 Preparing the Data\n",
    "\n",
    "First, we need to prepare our data by creating lagged features:\n"
   ]
  },
  {
   "cell_type": "code",
   "execution_count": null,
   "metadata": {},
   "outputs": [],
   "source": [
    "# Ensure our data is sorted by date\n",
    "df = df.sort_index()\n",
    "\n",
    "# Create lagged features\n",
    "for i in range(1, 8):\n",
    "    df[f'streamflow_lag_{i}'] = df['streamflow'].shift(i)\n",
    "\n",
    "# Drop rows with NaN values (first 7 days where we don't have full lag data)\n",
    "df_lagged = df.dropna()\n",
    "\n",
    "# Split into features (X) and target (y)\n",
    "X = df_lagged[['streamflow_lag_1', 'streamflow_lag_2', 'streamflow_lag_3', \n",
    "               'streamflow_lag_4', 'streamflow_lag_5', 'streamflow_lag_6', \n",
    "               'streamflow_lag_7']]\n",
    "y = df_lagged['streamflow']"
   ]
  },
  {
   "cell_type": "markdown",
   "metadata": {},
   "source": [
    "\n",
    "### 8.2 Training the Model\n",
    "\n",
    "Now, let's train our linear regression model:\n"
   ]
  },
  {
   "cell_type": "code",
   "execution_count": null,
   "metadata": {},
   "outputs": [],
   "source": [
    "from sklearn.model_selection import train_test_split\n",
    "from sklearn.metrics import mean_squared_error, r2_score\n",
    "\n",
    "# Split the data into training and testing sets\n",
    "X_train, X_test, y_train, y_test = train_test_split(X, y, test_size=0.2, random_state=42)\n",
    "\n",
    "# Create and train the model\n",
    "model = LinearRegression()\n",
    "model.fit(X_train, y_train)\n",
    "\n",
    "# Make predictions on the test set\n",
    "y_pred = model.predict(X_test)"
   ]
  },
  {
   "cell_type": "markdown",
   "metadata": {},
   "source": [
    "### 8.3 Evaluating the Model\n",
    "\n",
    "Let's evaluate our model's performance:"
   ]
  },
  {
   "cell_type": "code",
   "execution_count": null,
   "metadata": {},
   "outputs": [],
   "source": [
    "mse = mean_squared_error(y_test, y_pred)\n",
    "r2 = r2_score(y_test, y_pred)\n",
    "\n",
    "print(f\"Mean Squared Error: {mse:.2f}\")\n",
    "print(f\"R-squared Score: {r2:.2f}\")"
   ]
  },
  {
   "cell_type": "markdown",
   "metadata": {},
   "source": [
    "### 8.4 Visualizing the Results\n",
    "\n",
    "We can visualize how well our predictions match the actual values:"
   ]
  },
  {
   "cell_type": "code",
   "execution_count": null,
   "metadata": {},
   "outputs": [],
   "source": [
    "plt.figure(figsize=(12, 6))\n",
    "plt.scatter(y_test, y_pred, alpha=0.5)\n",
    "plt.plot([y_test.min(), y_test.max()], [y_test.min(), y_test.max()], 'r--', lw=2)\n",
    "plt.xlabel(\"Actual Streamflow\")\n",
    "plt.ylabel(\"Predicted Streamflow\")\n",
    "plt.title(\"Actual vs Predicted Streamflow\")\n",
    "plt.show()"
   ]
  },
  {
   "cell_type": "markdown",
   "metadata": {},
   "source": [
    "This plot shows how well our predictions (y-axis) match the actual values (x-axis). Points closer to the red dashed line indicate better predictions.\n",
    "\n",
    "### 8.5 Interpreting the Model\n",
    "\n",
    "We can examine the coefficients to understand the impact of each day's previous streamflow on the prediction:"
   ]
  },
  {
   "cell_type": "code",
   "execution_count": null,
   "metadata": {},
   "outputs": [],
   "source": [
    "for i, coef in enumerate(model.coef_, 1):\n",
    "    print(f\"Coefficient for {i} day(s) ago: {coef:.4f}\")\n",
    "print(f\"Intercept: {model.intercept_:.4f}\")"
   ]
  },
  {
   "cell_type": "markdown",
   "metadata": {},
   "source": [
    "These coefficients show the weight given to each day's streamflow in predicting the next day's streamflow. A positive coefficient indicates that an increase in streamflow on that day is associated with an increase in the next day's streamflow, while a negative coefficient suggests the opposite.\n",
    "\n",
    "### 8.6 Making a Prediction\n",
    "\n",
    "Finally, let's use our model to make a prediction:"
   ]
  },
  {
   "cell_type": "code",
   "execution_count": null,
   "metadata": {},
   "outputs": [],
   "source": [
    "# Get the most recent 7 days of data\n",
    "recent_data = df['streamflow'].tail(7).values.reshape(1, -1)\n",
    "\n",
    "# Make a prediction\n",
    "next_day_prediction = model.predict(recent_data)\n",
    "\n",
    "print(f\"Predicted streamflow for next day: {next_day_prediction[0]:.2f}\")"
   ]
  },
  {
   "cell_type": "markdown",
   "metadata": {},
   "source": [
    "This prediction uses the most recent 7 days of streamflow data to forecast the next day's streamflow.\n",
    "\n",
    "## Conclusion\n",
    "\n",
    "In this tutorial, we've walked through the process of performing linear regression on real-world data. We've seen how to prepare data, create visualizations, fit linear models, and interpret the results. We've also seen how transforming our data (in this case, using a log transformation) can sometimes lead to better fits. We also explored autoregression for time series forecasting, which can be useful for predicting future values based on past data."
   ]
  },
  {
   "cell_type": "markdown",
   "metadata": {},
   "source": []
  }
 ],
 "metadata": {
  "language_info": {
   "name": "python"
  }
 },
 "nbformat": 4,
 "nbformat_minor": 2
}

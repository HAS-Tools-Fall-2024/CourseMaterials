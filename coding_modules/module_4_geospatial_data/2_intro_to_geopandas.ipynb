{
 "cells": [
  {
   "cell_type": "markdown",
   "metadata": {},
   "source": [
    "# Introduction to GIS in python with `geopandas`"
   ]
  },
  {
   "cell_type": "code",
   "execution_count": null,
   "metadata": {},
   "outputs": [],
   "source": [
    "import numpy as np\n",
    "import pandas as pd\n",
    "import matplotlib.pyplot as plt\n",
    "\n",
    "import geopandas as gpd"
   ]
  },
  {
   "cell_type": "markdown",
   "metadata": {},
   "source": [
    "This contains the geometric data for the state of Arizona\n",
    "The format is an ESRI shapefile, but there are other ways\n",
    "to define geospatial data, with the most popular alternative\n",
    "probably being a \"geojson\" file. Anyways, we can just open\n",
    "this up with the `gpd.read_file` method, and it will automatically\n",
    "figure out that it's a shapefile."
   ]
  },
  {
   "cell_type": "code",
   "execution_count": null,
   "metadata": {},
   "outputs": [],
   "source": [
    "az = gpd.read_file(\n",
    "    '/vsicurl/https://github.com/HAS-Tools-Fall2022'\n",
    "    '/Course-Materials22/raw/main/data/arizona_shapefile'\n",
    "    '/tl_2016_04_cousub.shp'\n",
    ")\n",
    "print(type(az))\n",
    "az.head()"
   ]
  },
  {
   "cell_type": "markdown",
   "metadata": {},
   "source": [
    "Just like a regular pandas dataframe the geodataframe\n",
    "has a bunch of helper methods for you to be able to \n",
    "see what's in the data. As usual, doing `df.head()`\n",
    "will give a quick preview of what's inside it.\n",
    "\n",
    "NOTE: One important thing, if you scroll over the the\n",
    "      far right column in the printout you'll see that \n",
    "      there is a column for the geometry, which defines\n",
    "      the shapes of the vector data.\n",
    "\n",
    "You can even see the individual polygons in this case by \n",
    "indexing the geometry directly."
   ]
  },
  {
   "cell_type": "code",
   "execution_count": null,
   "metadata": {},
   "outputs": [],
   "source": [
    "az['geometry'].iloc[0]"
   ]
  },
  {
   "cell_type": "markdown",
   "metadata": {},
   "source": [
    "But, more importantly, it's easy to plot things! See\n",
    "here we can just call the `.plot()` function and that\n",
    "will automatically show you all of the geometries."
   ]
  },
  {
   "cell_type": "code",
   "execution_count": null,
   "metadata": {},
   "outputs": [],
   "source": [
    "az.plot()"
   ]
  },
  {
   "cell_type": "markdown",
   "metadata": {},
   "source": [
    "Further, you can plot the data in the columns\n",
    "in an easy way by adding `column='COLUMN_NAME'`\n",
    "to the plot call. Also, adding `legend=True`\n",
    "will get you a colorbar. Here I'm just plotting\n",
    "the area of the land in each of the polygons."
   ]
  },
  {
   "cell_type": "code",
   "execution_count": null,
   "metadata": {},
   "outputs": [],
   "source": [
    "az.plot(column='ALAND', legend=True)"
   ]
  },
  {
   "cell_type": "markdown",
   "metadata": {},
   "source": [
    "A minor aside, but you could also get this\n",
    "information from the geometry directly - see here.\n",
    "I'll also change the colormap with `cmap='turbo'`\n",
    "just to spice things up."
   ]
  },
  {
   "cell_type": "code",
   "execution_count": null,
   "metadata": {},
   "outputs": [],
   "source": [
    "az['area'] = az.geometry.area\n",
    "az.plot(column='area', legend=True, cmap='turbo')"
   ]
  },
  {
   "cell_type": "markdown",
   "metadata": {},
   "source": [
    "Next up, we can also pull in the GAGES-II dataset,\n",
    "which is a USGS product with the acronym \"Geospatial \n",
    "Attributes of Gages for Evaluating Streamflow\" and \n",
    "contains data from over 9000 located across the US.\n",
    "This shapefile only contains some of the attributes,\n",
    "but does not actually contain the streamflow timeseries.\n",
    "We'll get to that in your homework."
   ]
  },
  {
   "cell_type": "code",
   "execution_count": null,
   "metadata": {},
   "outputs": [],
   "source": [
    "gages = gpd.read_file(\n",
    "     '/vsicurl/https://github.com/HAS-Tools-Fall2022'\n",
    "     '/Course-Materials22/raw/main/data/gagesii_shapefile/'\n",
    "     'gagesII_9322_sept30_2011.shp'   \n",
    ")\n",
    "gages.head()"
   ]
  },
  {
   "cell_type": "markdown",
   "metadata": {},
   "source": [
    "As before, we can plot this right up. Now here note that\n",
    "we have points rather than polygons, so a different kind\n",
    "of vector data. I modified some of the plot attributes\n",
    "just to make things prettier. Here you can see the full \n",
    "US, including Alaska, Hawaii, and Puerto Rico."
   ]
  },
  {
   "cell_type": "code",
   "execution_count": null,
   "metadata": {},
   "outputs": [],
   "source": [
    "gages.plot(markersize=1, color='goldenrod')"
   ]
  },
  {
   "cell_type": "markdown",
   "metadata": {},
   "source": [
    "Let's see if we can plot the GAGES data along with the\n",
    "Arizona shapefile. Just to start off here, it might be\n",
    "worth looking at the axis labels on the previous plots.\n",
    "This is where the CRS stuff comes into play. \n",
    "Now, when you run this, you might ask: where's Arizona?\n",
    "Great question - but let's jump down to the next cell to\n",
    "figure out what happened."
   ]
  },
  {
   "cell_type": "code",
   "execution_count": null,
   "metadata": {},
   "outputs": [],
   "source": [
    "ax = gages.plot(markersize=1, color='goldenrod')\n",
    "az.plot(ax=ax, color='crimson')"
   ]
  },
  {
   "cell_type": "markdown",
   "metadata": {},
   "source": [
    "Here I've added some bells and whistles to debug the\n",
    "behavior from above. Basically I added an `edgecolor`\n",
    "and increased the `linewidth` so we can see where\n",
    "the Arizona shapefile pops up - and it's somewhere\n",
    "south of Texas... clearly wrong. So what's up?\n",
    "It's the CRS. The Arizona shapefile has a lat/lon\n",
    "projection, and the GAGES shapefile is based on \n",
    "meters, so they don't line up right. How do we fix this?\n",
    "See the answer below!"
   ]
  },
  {
   "cell_type": "code",
   "execution_count": null,
   "metadata": {},
   "outputs": [],
   "source": [
    "ax = gages.plot(markersize=1, color='goldenrod')\n",
    "az.plot(\n",
    "    ax=ax, \n",
    "    color='crimson', \n",
    "    edgecolor='crimson', \n",
    "    linewidth=10\n",
    ")"
   ]
  },
  {
   "cell_type": "markdown",
   "metadata": {},
   "source": [
    "To get things lined up we can simply do a coordinate\n",
    "transformation. This is where geopandas comes in and\n",
    "helps out a lot. We can simply take the CRS of one of \n",
    "the shapefiles and project the other one to the same \n",
    "CRS. I'm putting the GAGES data onto the AZ CRS here\n",
    "just because I find lat/lon to be more intuitive. \n",
    "Then, it's easy enough to just plot it all together!"
   ]
  },
  {
   "cell_type": "code",
   "execution_count": null,
   "metadata": {},
   "outputs": [],
   "source": [
    "gages = gages.to_crs(az.crs)\n",
    "ax = az.plot(color='crimson')\n",
    "gages.plot(markersize=1, color='goldenrod', ax=ax, alpha=0.2)"
   ]
  },
  {
   "cell_type": "markdown",
   "metadata": {},
   "source": [
    "Okay, next step you might want to do is just pull out\n",
    "the GAGES data that is inside of Arizona. This is really\n",
    "easy again thanks to geopandas with the `clip` function.\n",
    "Then, we'll just plot the thing up!"
   ]
  },
  {
   "cell_type": "code",
   "execution_count": null,
   "metadata": {},
   "outputs": [],
   "source": [
    "az_gages = gages.clip(az)\n",
    "ax = az.plot(color='lightgrey', edgecolor='white')\n",
    "az_gages.plot(ax=ax, color='crimson', markersize=5)\n",
    "plt.title('Gages II data in Arizona')"
   ]
  },
  {
   "cell_type": "markdown",
   "metadata": {},
   "source": [
    "Great, that's all I have for you here! There will be\n",
    "more exercises combining this with stuff that you've\n",
    "seen for pulling in the streamflow data from USGS."
   ]
  },
  {
   "cell_type": "code",
   "execution_count": null,
   "metadata": {},
   "outputs": [],
   "source": []
  }
 ],
 "metadata": {
  "kernelspec": {
   "display_name": "Python 3 (ipykernel)",
   "language": "python",
   "name": "python3"
  },
  "language_info": {
   "codemirror_mode": {
    "name": "ipython",
    "version": 3
   },
   "file_extension": ".py",
   "mimetype": "text/x-python",
   "name": "python",
   "nbconvert_exporter": "python",
   "pygments_lexer": "ipython3",
   "version": "3.9.1"
  }
 },
 "nbformat": 4,
 "nbformat_minor": 5
}

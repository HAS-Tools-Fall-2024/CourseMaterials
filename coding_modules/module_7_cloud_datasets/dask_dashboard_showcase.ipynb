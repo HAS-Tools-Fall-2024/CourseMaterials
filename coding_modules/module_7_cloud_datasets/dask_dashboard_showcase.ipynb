{
 "cells": [
  {
   "cell_type": "code",
   "execution_count": null,
   "metadata": {},
   "outputs": [],
   "source": [
    "import xarray as xr\n",
    "from dask.distributed import Client, LocalCluster\n",
    "\n",
    "cluster = LocalCluster(n_workers=4)\n",
    "client = Client(cluster)\n",
    "client"
   ]
  },
  {
   "cell_type": "code",
   "execution_count": null,
   "metadata": {},
   "outputs": [],
   "source": [
    "# Example: Access ERA5 data\n",
    "path = 'gs://gcp-public-data-arco-era5/ar/1959-2022-6h-1440x721.zarr'\n",
    "\n",
    "ds = xr.open_dataset(path, engine='zarr').chunk('auto')\n",
    "ds"
   ]
  },
  {
   "cell_type": "code",
   "execution_count": null,
   "metadata": {},
   "outputs": [],
   "source": [
    "t2m = ds['2m_temperature']\n",
    "t2m "
   ]
  },
  {
   "cell_type": "code",
   "execution_count": null,
   "metadata": {},
   "outputs": [],
   "source": [
    "t2m.isel(time=-2).plot(cmap='magma')"
   ]
  },
  {
   "cell_type": "code",
   "execution_count": null,
   "metadata": {},
   "outputs": [],
   "source": [
    "# Quickly swap over to the dask dashboard to watch\n",
    "t2m.isel(time=slice(0, 322)).mean(dim='time').plot(cmap='magma')"
   ]
  },
  {
   "cell_type": "code",
   "execution_count": null,
   "metadata": {},
   "outputs": [],
   "source": [
    "tucson_lat = 32.2540\n",
    "tucson_lon = 360.0 - 110.9742\n",
    "\n",
    "year_number = 7\n",
    "timesteps_per_day = 4\n",
    "days_per_year = 365\n",
    "start = year_number * timesteps_per_day * 365\n",
    "end = (year_number + 1) * timesteps_per_day  * 365\n",
    "\n",
    "tucson_t2m = t2m.isel(time=slice(start, end)).sel(\n",
    "    latitude=tucson_lat,\n",
    "    longitude=tucson_lon,\n",
    "    method='nearest'\n",
    ")\n"
   ]
  },
  {
   "cell_type": "code",
   "execution_count": null,
   "metadata": {},
   "outputs": [],
   "source": [
    "(tucson_t2m - 273).plot()"
   ]
  },
  {
   "cell_type": "code",
   "execution_count": null,
   "metadata": {},
   "outputs": [],
   "source": [
    "start_year = 10\n",
    "number_years = 10\n",
    "timesteps_per_day = 4\n",
    "days_per_year = 365\n",
    "start = start_year * timesteps_per_day * 365\n",
    "end = (start_year + number_years) * timesteps_per_day  * 365\n",
    "\n",
    "tucson_t2m = t2m.isel(time=slice(start, end, 7)).sel(\n",
    "    latitude=tucson_lat,\n",
    "    longitude=tucson_lon,\n",
    "    method='nearest'\n",
    ")"
   ]
  },
  {
   "cell_type": "code",
   "execution_count": null,
   "metadata": {},
   "outputs": [],
   "source": [
    "tucson_t2m_climatology = tucson_t2m.groupby(tucson_t2m.time.dt.month).mean()"
   ]
  },
  {
   "cell_type": "code",
   "execution_count": null,
   "metadata": {},
   "outputs": [],
   "source": [
    "tucson_t2m_climatology.plot()"
   ]
  },
  {
   "cell_type": "code",
   "execution_count": null,
   "metadata": {},
   "outputs": [],
   "source": [
    "start = 0\n",
    "end = -1\n",
    "step = 77\n",
    "tucson_t2m = t2m.isel(time=slice(start, end, step)).sel(\n",
    "    latitude=tucson_lat,\n",
    "    longitude=tucson_lon,\n",
    "    method='nearest'\n",
    ")\n",
    "\n",
    "tucson_t2m_climatology = tucson_t2m.groupby(tucson_t2m.time.dt.month).mean()\n"
   ]
  },
  {
   "cell_type": "code",
   "execution_count": null,
   "metadata": {},
   "outputs": [],
   "source": [
    "\n",
    "tucson_t2m_climatology.plot()"
   ]
  },
  {
   "cell_type": "code",
   "execution_count": null,
   "metadata": {},
   "outputs": [],
   "source": []
  },
  {
   "cell_type": "code",
   "execution_count": null,
   "metadata": {},
   "outputs": [],
   "source": []
  },
  {
   "cell_type": "code",
   "execution_count": null,
   "metadata": {},
   "outputs": [],
   "source": []
  },
  {
   "cell_type": "code",
   "execution_count": null,
   "metadata": {},
   "outputs": [],
   "source": []
  }
 ],
 "metadata": {
  "kernelspec": {
   "display_name": "init",
   "language": "python",
   "name": "python3"
  },
  "language_info": {
   "codemirror_mode": {
    "name": "ipython",
    "version": 3
   },
   "file_extension": ".py",
   "mimetype": "text/x-python",
   "name": "python",
   "nbconvert_exporter": "python",
   "pygments_lexer": "ipython3",
   "version": "3.10.13"
  }
 },
 "nbformat": 4,
 "nbformat_minor": 2
}
